{
  "nbformat": 4,
  "nbformat_minor": 0,
  "metadata": {
    "colab": {
      "name": "Assignment1_NER.ipynb",
      "provenance": [],
      "collapsed_sections": []
    },
    "kernelspec": {
      "name": "python3",
      "display_name": "Python 3"
    }
  },
  "cells": [
    {
      "cell_type": "code",
      "metadata": {
        "id": "2l2Dk46g_uMn"
      },
      "source": [
        "import pandas as pd\r\n",
        "import numpy as np\r\n",
        "from keras.preprocessing.sequence import pad_sequences\r\n",
        "from sklearn.model_selection import train_test_split\r\n",
        "from keras.models import Model, Input, Sequential\r\n",
        "from keras.layers import LSTM, Embedding, DenseFeatures, SpatialDropout1D, Dropout\r\n",
        "from keras.layers import Bidirectional, concatenate, TimeDistributed, Dense, Flatten, GlobalMaxPooling1D\r\n",
        "from keras.optimizers import Adam\r\n",
        "import tensorflow as tf\r\n",
        "import matplotlib.pyplot as plt\r\n",
        "from keras.utils import to_categorical\r\n",
        "from keras.constraints import max_norm\r\n",
        "from keras.models import model_from_json"
      ],
      "execution_count": 1,
      "outputs": []
    },
    {
      "cell_type": "code",
      "metadata": {
        "id": "GZLOLQYZBi-b"
      },
      "source": [
        "pd.set_option(\"display.max_rows\", 100)\r\n",
        "pd.set_option(\"display.max_columns\", 50)"
      ],
      "execution_count": 2,
      "outputs": []
    },
    {
      "cell_type": "code",
      "metadata": {
        "colab": {
          "base_uri": "https://localhost:8080/",
          "height": 197
        },
        "id": "DIqB4Ww7Bl1F",
        "outputId": "49277d1f-98ab-49f3-f1ce-40c136f26526"
      },
      "source": [
        "data = pd.read_csv('/content/drive/MyDrive/NLP/annotatedData.csv', encoding=\"unicode_escape\")\r\n",
        "data.head()"
      ],
      "execution_count": 3,
      "outputs": [
        {
          "output_type": "execute_result",
          "data": {
            "text/html": [
              "<div>\n",
              "<style scoped>\n",
              "    .dataframe tbody tr th:only-of-type {\n",
              "        vertical-align: middle;\n",
              "    }\n",
              "\n",
              "    .dataframe tbody tr th {\n",
              "        vertical-align: top;\n",
              "    }\n",
              "\n",
              "    .dataframe thead th {\n",
              "        text-align: right;\n",
              "    }\n",
              "</style>\n",
              "<table border=\"1\" class=\"dataframe\">\n",
              "  <thead>\n",
              "    <tr style=\"text-align: right;\">\n",
              "      <th></th>\n",
              "      <th>Sent</th>\n",
              "      <th>Word</th>\n",
              "      <th>Tag</th>\n",
              "    </tr>\n",
              "  </thead>\n",
              "  <tbody>\n",
              "    <tr>\n",
              "      <th>0</th>\n",
              "      <td>sent: 0</td>\n",
              "      <td>Bahubali</td>\n",
              "      <td>B-Per</td>\n",
              "    </tr>\n",
              "    <tr>\n",
              "      <th>1</th>\n",
              "      <td>sent: 0</td>\n",
              "      <td>2</td>\n",
              "      <td>Other</td>\n",
              "    </tr>\n",
              "    <tr>\n",
              "      <th>2</th>\n",
              "      <td>sent: 0</td>\n",
              "      <td>ke</td>\n",
              "      <td>Other</td>\n",
              "    </tr>\n",
              "    <tr>\n",
              "      <th>3</th>\n",
              "      <td>sent: 0</td>\n",
              "      <td>liye</td>\n",
              "      <td>Other</td>\n",
              "    </tr>\n",
              "    <tr>\n",
              "      <th>4</th>\n",
              "      <td>sent: 0</td>\n",
              "      <td>line</td>\n",
              "      <td>Other</td>\n",
              "    </tr>\n",
              "  </tbody>\n",
              "</table>\n",
              "</div>"
            ],
            "text/plain": [
              "      Sent      Word    Tag\n",
              "0  sent: 0  Bahubali  B-Per\n",
              "1  sent: 0         2  Other\n",
              "2  sent: 0        ke  Other\n",
              "3  sent: 0      liye  Other\n",
              "4  sent: 0      line  Other"
            ]
          },
          "metadata": {
            "tags": []
          },
          "execution_count": 3
        }
      ]
    },
    {
      "cell_type": "code",
      "metadata": {
        "id": "NjxKl9HZBvlj"
      },
      "source": [
        "# Filling any null value in sentence with the previously obtained sentence numbers i.e. Forward Fill\r\n",
        "data = data.fillna(method=\"ffill\")"
      ],
      "execution_count": 4,
      "outputs": []
    },
    {
      "cell_type": "code",
      "metadata": {
        "id": "Mk2jKz4MIGrJ"
      },
      "source": [
        "# Can be modified\r\n",
        "# max_len = 75 # every sentence is max of 75 length\r\n",
        "max_len_char = 66 # every word is max of 10 length"
      ],
      "execution_count": 5,
      "outputs": []
    },
    {
      "cell_type": "code",
      "metadata": {
        "id": "4YmAX2uFCh4W"
      },
      "source": [
        "# Converting all the tags to B, I, O\r\n",
        "tags_dict = {\r\n",
        "    'B-Per' : 'B',\r\n",
        "    'B-Org' : 'B',\r\n",
        "    'B-Loc' : 'B',\r\n",
        "    'I-Org' : 'I',\r\n",
        "    'I-Loc' : 'I',\r\n",
        "    'I-Per' : 'I',\r\n",
        "    'Other' : 'O',\r\n",
        "}\r\n",
        "data.Tag.replace(tags_dict, inplace = True)"
      ],
      "execution_count": 6,
      "outputs": []
    },
    {
      "cell_type": "code",
      "metadata": {
        "colab": {
          "base_uri": "https://localhost:8080/"
        },
        "id": "_X7sfkv8FYv4",
        "outputId": "ae37982b-3b88-4a58-ef47-2074234dfde7"
      },
      "source": [
        "# Finding number of unique Words\r\n",
        "words = list(set(data[\"Word\"].values))\r\n",
        "n_words = len(words)\r\n",
        "print('No of unique words =', n_words)\r\n",
        "\r\n",
        "# Finding number of unique Tags\r\n",
        "tags = list(set(data[\"Tag\"].values))\r\n",
        "n_tags = len(tags);\r\n",
        "print('No of unique Tags =', n_tags)\r\n",
        "\r\n",
        "# Finding number of unique Characters\r\n",
        "chars = set([w_i for w in words for w_i in w])\r\n",
        "n_chars = len(chars)\r\n",
        "print('No of unique Characters =', n_chars)"
      ],
      "execution_count": 7,
      "outputs": [
        {
          "output_type": "stream",
          "text": [
            "No of unique words = 14866\n",
            "No of unique Tags = 3\n",
            "No of unique Characters = 114\n"
          ],
          "name": "stdout"
        }
      ]
    },
    {
      "cell_type": "code",
      "metadata": {
        "id": "gCAumkf1Fi9m"
      },
      "source": [
        "word2idx = {w: i + 2 for i, w in enumerate(words)}\r\n",
        "word2idx[\"UNK\"] = 1\r\n",
        "word2idx[\"PAD\"] = 0\r\n",
        "idx2word = {i: w for w, i in word2idx.items()}\r\n",
        "\r\n",
        "tag2idx = {t: i + 1 for i, t in enumerate(tags)}\r\n",
        "tag2idx[\"PAD\"] = 0\r\n",
        "idx2tag = {i: w for w, i in tag2idx.items()}\r\n",
        "\r\n",
        "char2idx = {c: i + 2 for i, c in enumerate(chars)}\r\n",
        "char2idx[\"UNK\"] = 1\r\n",
        "char2idx[\"PAD\"] = 0\r\n",
        "idx2char = {i : c for i, c in enumerate(char2idx)}"
      ],
      "execution_count": 8,
      "outputs": []
    },
    {
      "cell_type": "code",
      "metadata": {
        "id": "mkHJQSx1WmUF"
      },
      "source": [
        "def split_word(word) :\r\n",
        "  return [char for char in word]"
      ],
      "execution_count": 9,
      "outputs": []
    },
    {
      "cell_type": "code",
      "metadata": {
        "id": "R3tVN4daF0d1"
      },
      "source": [
        "tagLiFinal =[]\r\n",
        "indxLiFinal = []\r\n",
        "charLiFinal = []\r\n",
        "new_data = pd.DataFrame()\r\n",
        "for index, row in data.iterrows(): \r\n",
        "  li = list(row['Word'])\r\n",
        "  charlist = split_word(li)\r\n",
        "  tagW = row['Tag'] \r\n",
        "  tagLi = []\r\n",
        "  indxLi = []\r\n",
        "  p = len(li)\r\n",
        "  for obj in li:\r\n",
        "    indxLi.append(char2idx.get(obj))\r\n",
        "    if(tagW == 'B') :\r\n",
        "      if p == 1 :\r\n",
        "        tagLi.append(tag2idx.get('B'))\r\n",
        "      elif p == len(li) :\r\n",
        "        tagLi.append(tag2idx.get('B'))\r\n",
        "      else :\r\n",
        "        tagLi.append(tag2idx.get('I'))\r\n",
        "    else :\r\n",
        "      tagLi.append(tag2idx.get(tagW))\r\n",
        "    p = p - 1\r\n",
        "  charLiFinal.extend(charlist)\r\n",
        "  indxLiFinal.extend(indxLi)\r\n",
        "  tagLiFinal.extend(tagLi)\r\n",
        "\r\n",
        "new_data['Chars'] = charLiFinal\r\n",
        "new_data['Tags'] = tagLiFinal"
      ],
      "execution_count": 10,
      "outputs": []
    },
    {
      "cell_type": "code",
      "metadata": {
        "id": "KDy75tmFGOcr"
      },
      "source": [
        "new_data.head(10)\r\n",
        "new_data.Chars.replace(char2idx, inplace = True)"
      ],
      "execution_count": 11,
      "outputs": []
    },
    {
      "cell_type": "code",
      "metadata": {
        "id": "UnWw8J7lMtIX"
      },
      "source": [
        "def get_pad_train_test_val(data_group):\r\n",
        "\r\n",
        "  pad_tokens = data_group['Chars'].tolist()\r\n",
        "\r\n",
        "  tags = data_group['Tags'].tolist()\r\n",
        "  n_tags = len(tag2idx)\r\n",
        "  pad_tags = [to_categorical(i, num_classes=n_tags) for i in tags]\r\n",
        "\r\n",
        "  train_tokens, test_tokens, train_tags, test_tags = train_test_split(pad_tokens, pad_tags, test_size=0.2, random_state=2020)\r\n",
        "\r\n",
        "  return train_tokens, test_tokens, train_tags, test_tags\r\n",
        "\r\n",
        "train_tokens, test_tokens, train_tags, test_tags = get_pad_train_test_val(new_data)"
      ],
      "execution_count": 12,
      "outputs": []
    },
    {
      "cell_type": "code",
      "metadata": {
        "colab": {
          "base_uri": "https://localhost:8080/"
        },
        "id": "Xt6ilS2ekWLn",
        "outputId": "d20e80ea-38cd-4b33-875e-96420272b5bc"
      },
      "source": [
        "print('Train shape =', len(train_tokens))\r\n",
        "print('Train tags shape =', len(train_tags))\r\n",
        "print('Test shape =', len(test_tokens))\r\n",
        "print('Test tags shape =', len(test_tags))"
      ],
      "execution_count": 13,
      "outputs": [
        {
          "output_type": "stream",
          "text": [
            "Train shape = 251633\n",
            "Train tags shape = 251633\n",
            "Test shape = 62909\n",
            "Test tags shape = 62909\n"
          ],
          "name": "stdout"
        }
      ]
    },
    {
      "cell_type": "code",
      "metadata": {
        "id": "Gc8-M_6TYWkT"
      },
      "source": [
        "def get_bilstm_lstm_model():\r\n",
        "  \r\n",
        "    model = Sequential()\r\n",
        "\r\n",
        "    model.add(Embedding(input_dim = n_chars + 2, output_dim = 32, input_length = 1))\r\n",
        "\r\n",
        "    model.add(Bidirectional(LSTM(units=20, return_sequences=True, dropout=0.2, recurrent_dropout=0.2), merge_mode = 'concat'))\r\n",
        "\r\n",
        "    model.add(LSTM(units=20, return_sequences=True, dropout=0.5, recurrent_dropout=0.5))\r\n",
        "    # model.add(LSTM(units=20, return_sequences=True, dropout=0.6, recurrent_dropout=0.6, kernel_constraint=max_norm(3)))\r\n",
        "    \r\n",
        "    model.add(Flatten())\r\n",
        "\r\n",
        "    model.add(Dense(len(tag2idx), activation=\"softmax\", kernel_constraint=max_norm(3)))\r\n",
        "\r\n",
        "    model.compile(loss='categorical_crossentropy', optimizer = 'adam', metrics=['accuracy'])\r\n",
        "    model.summary()\r\n",
        "\r\n",
        "    return model"
      ],
      "execution_count": 14,
      "outputs": []
    },
    {
      "cell_type": "code",
      "metadata": {
        "colab": {
          "base_uri": "https://localhost:8080/"
        },
        "id": "UsTXvXN7nZrr",
        "outputId": "2bcfd7aa-75ef-49b2-838c-b60a05d178df"
      },
      "source": [
        "model = get_bilstm_lstm_model()"
      ],
      "execution_count": 15,
      "outputs": [
        {
          "output_type": "stream",
          "text": [
            "Model: \"sequential\"\n",
            "_________________________________________________________________\n",
            "Layer (type)                 Output Shape              Param #   \n",
            "=================================================================\n",
            "embedding (Embedding)        (None, 1, 32)             3712      \n",
            "_________________________________________________________________\n",
            "bidirectional (Bidirectional (None, 1, 40)             8480      \n",
            "_________________________________________________________________\n",
            "lstm_1 (LSTM)                (None, 1, 20)             4880      \n",
            "_________________________________________________________________\n",
            "flatten (Flatten)            (None, 20)                0         \n",
            "_________________________________________________________________\n",
            "dense (Dense)                (None, 4)                 84        \n",
            "=================================================================\n",
            "Total params: 17,156\n",
            "Trainable params: 17,156\n",
            "Non-trainable params: 0\n",
            "_________________________________________________________________\n"
          ],
          "name": "stdout"
        }
      ]
    },
    {
      "cell_type": "code",
      "metadata": {
        "colab": {
          "base_uri": "https://localhost:8080/"
        },
        "id": "buv17NJWnmfy",
        "outputId": "1a11f4a6-6a21-408c-de4e-b1a89978c80f"
      },
      "source": [
        "model.fit(np.array(train_tokens), np.array(train_tags), batch_size = 512, verbose = 1, epochs = 10, validation_split = 0.2)"
      ],
      "execution_count": 16,
      "outputs": [
        {
          "output_type": "stream",
          "text": [
            "Epoch 1/10\n",
            "394/394 [==============================] - 14s 16ms/step - loss: 0.8253 - accuracy: 0.8705 - val_loss: 0.4082 - val_accuracy: 0.8826\n",
            "Epoch 2/10\n",
            "394/394 [==============================] - 6s 14ms/step - loss: 0.4043 - accuracy: 0.8846 - val_loss: 0.4043 - val_accuracy: 0.8826\n",
            "Epoch 3/10\n",
            "394/394 [==============================] - 5s 14ms/step - loss: 0.3985 - accuracy: 0.8857 - val_loss: 0.4016 - val_accuracy: 0.8826\n",
            "Epoch 4/10\n",
            "394/394 [==============================] - 5s 14ms/step - loss: 0.3986 - accuracy: 0.8848 - val_loss: 0.3962 - val_accuracy: 0.8826\n",
            "Epoch 5/10\n",
            "394/394 [==============================] - 5s 14ms/step - loss: 0.3932 - accuracy: 0.8849 - val_loss: 0.3940 - val_accuracy: 0.8836\n",
            "Epoch 6/10\n",
            "394/394 [==============================] - 6s 14ms/step - loss: 0.3915 - accuracy: 0.8849 - val_loss: 0.3930 - val_accuracy: 0.8836\n",
            "Epoch 7/10\n",
            "394/394 [==============================] - 5s 14ms/step - loss: 0.3910 - accuracy: 0.8852 - val_loss: 0.3926 - val_accuracy: 0.8836\n",
            "Epoch 8/10\n",
            "394/394 [==============================] - 5s 14ms/step - loss: 0.3923 - accuracy: 0.8844 - val_loss: 0.3935 - val_accuracy: 0.8836\n",
            "Epoch 9/10\n",
            "394/394 [==============================] - 5s 14ms/step - loss: 0.3929 - accuracy: 0.8839 - val_loss: 0.3926 - val_accuracy: 0.8836\n",
            "Epoch 10/10\n",
            "394/394 [==============================] - 5s 14ms/step - loss: 0.3901 - accuracy: 0.8853 - val_loss: 0.3921 - val_accuracy: 0.8836\n"
          ],
          "name": "stdout"
        },
        {
          "output_type": "execute_result",
          "data": {
            "text/plain": [
              "<tensorflow.python.keras.callbacks.History at 0x7fe9073f6198>"
            ]
          },
          "metadata": {
            "tags": []
          },
          "execution_count": 16
        }
      ]
    },
    {
      "cell_type": "code",
      "metadata": {
        "colab": {
          "base_uri": "https://localhost:8080/"
        },
        "id": "40YjtSiAJXS5",
        "outputId": "c41360ff-df9c-4caa-c55a-cd6d04d84932"
      },
      "source": [
        "score = model.evaluate(np.array(test_tokens), np.array(test_tags), verbose = 1)\r\n",
        "print(\"%s: %.2f%%\" % (model.metrics_names[1], score[1] * 100))"
      ],
      "execution_count": 17,
      "outputs": [
        {
          "output_type": "stream",
          "text": [
            "1966/1966 [==============================] - 3s 1ms/step - loss: 0.3905 - accuracy: 0.8844\n",
            "accuracy: 88.44%\n"
          ],
          "name": "stdout"
        }
      ]
    },
    {
      "cell_type": "code",
      "metadata": {
        "id": "_SXGMc4B4I8g"
      },
      "source": [
        "y_pred = model.predict([np.array(test_tokens)])"
      ],
      "execution_count": 18,
      "outputs": []
    },
    {
      "cell_type": "code",
      "metadata": {
        "id": "Zs9FlsuB9B8w",
        "colab": {
          "base_uri": "https://localhost:8080/"
        },
        "outputId": "b127a0d3-5367-4790-9a02-34858c9933f6"
      },
      "source": [
        "print(y_pred.shape)"
      ],
      "execution_count": 19,
      "outputs": [
        {
          "output_type": "stream",
          "text": [
            "(62909, 4)\n"
          ],
          "name": "stdout"
        }
      ]
    },
    {
      "cell_type": "code",
      "metadata": {
        "colab": {
          "base_uri": "https://localhost:8080/"
        },
        "id": "MAGcvOc_iM8J",
        "outputId": "0720253e-7fe8-42e1-e806-6cbabb36939c"
      },
      "source": [
        "y_pred.shape\r\n",
        "c = 0\r\n",
        "for x in y_pred :\r\n",
        "  if np.argmax(x) == 2 :\r\n",
        "    c = c + 1\r\n",
        "print(c)"
      ],
      "execution_count": 20,
      "outputs": [
        {
          "output_type": "stream",
          "text": [
            "171\n"
          ],
          "name": "stdout"
        }
      ]
    },
    {
      "cell_type": "code",
      "metadata": {
        "colab": {
          "base_uri": "https://localhost:8080/"
        },
        "id": "3ZNvK5PYk0wM",
        "outputId": "e0afe164-c376-422e-d97c-67c983f2578a"
      },
      "source": [
        "tag2idx"
      ],
      "execution_count": 21,
      "outputs": [
        {
          "output_type": "execute_result",
          "data": {
            "text/plain": [
              "{'B': 2, 'I': 3, 'O': 1, 'PAD': 0}"
            ]
          },
          "metadata": {
            "tags": []
          },
          "execution_count": 21
        }
      ]
    },
    {
      "cell_type": "code",
      "metadata": {
        "colab": {
          "base_uri": "https://localhost:8080/"
        },
        "id": "L2Xt7OIqq9Po",
        "outputId": "5d3ab493-de15-4935-c988-a43c10cdd026"
      },
      "source": [
        "# For Testing\r\n",
        "sent = 'Modi is a bad guy'\r\n",
        "words = sent.split(\" \")\r\n",
        "li = []\r\n",
        "for i in words :\r\n",
        "  li.extend(split_word(i))\r\n",
        "frame = pd.DataFrame()\r\n",
        "frame['Chars'] = li\r\n",
        "frame.Chars.replace(char2idx, inplace = True)\r\n",
        "y = model.predict(np.array(frame['Chars']))\r\n",
        "print(y)"
      ],
      "execution_count": 22,
      "outputs": [
        {
          "output_type": "stream",
          "text": [
            "[[4.31103725e-03 6.63255095e-01 1.38818324e-01 1.93615571e-01]\n",
            " [1.49016341e-05 9.04732466e-01 1.01313200e-02 8.51212889e-02]\n",
            " [2.06253462e-04 7.94616342e-01 3.59123759e-02 1.69265091e-01]\n",
            " [4.73928449e-05 8.83540750e-01 3.19572128e-02 8.44546035e-02]\n",
            " [4.73928449e-05 8.83540750e-01 3.19572128e-02 8.44546035e-02]\n",
            " [4.12455483e-05 8.76273274e-01 2.32902188e-02 1.00395307e-01]\n",
            " [1.40879083e-05 9.09586012e-01 1.05189895e-02 7.98809081e-02]\n",
            " [5.50985578e-06 9.54501092e-01 9.33072809e-03 3.61627489e-02]\n",
            " [1.40879083e-05 9.09586012e-01 1.05189895e-02 7.98809081e-02]\n",
            " [2.06253462e-04 7.94616342e-01 3.59123759e-02 1.69265091e-01]\n",
            " [9.64423452e-06 9.29384708e-01 9.70502291e-03 6.09006844e-02]\n",
            " [3.62686587e-05 8.68711829e-01 1.73303820e-02 1.13921508e-01]\n",
            " [9.39828897e-06 9.36345816e-01 1.22601483e-02 5.13846762e-02]]\n"
          ],
          "name": "stdout"
        }
      ]
    },
    {
      "cell_type": "markdown",
      "metadata": {
        "id": "T25FdVhxFxBY"
      },
      "source": [
        "# Character Language Model using both Word and Character Embedding"
      ]
    },
    {
      "cell_type": "code",
      "metadata": {
        "colab": {
          "base_uri": "https://localhost:8080/",
          "height": 197
        },
        "id": "F8zEIjQ_-ZMZ",
        "outputId": "ca9e563e-9d48-48e4-f83b-f3364462784d"
      },
      "source": [
        "data = pd.read_csv('/content/drive/MyDrive/NLP/annotatedData.csv', encoding=\"latin1\")\r\n",
        "data.head()"
      ],
      "execution_count": 23,
      "outputs": [
        {
          "output_type": "execute_result",
          "data": {
            "text/html": [
              "<div>\n",
              "<style scoped>\n",
              "    .dataframe tbody tr th:only-of-type {\n",
              "        vertical-align: middle;\n",
              "    }\n",
              "\n",
              "    .dataframe tbody tr th {\n",
              "        vertical-align: top;\n",
              "    }\n",
              "\n",
              "    .dataframe thead th {\n",
              "        text-align: right;\n",
              "    }\n",
              "</style>\n",
              "<table border=\"1\" class=\"dataframe\">\n",
              "  <thead>\n",
              "    <tr style=\"text-align: right;\">\n",
              "      <th></th>\n",
              "      <th>Sent</th>\n",
              "      <th>Word</th>\n",
              "      <th>Tag</th>\n",
              "    </tr>\n",
              "  </thead>\n",
              "  <tbody>\n",
              "    <tr>\n",
              "      <th>0</th>\n",
              "      <td>sent: 0</td>\n",
              "      <td>Bahubali</td>\n",
              "      <td>B-Per</td>\n",
              "    </tr>\n",
              "    <tr>\n",
              "      <th>1</th>\n",
              "      <td>sent: 0</td>\n",
              "      <td>2</td>\n",
              "      <td>Other</td>\n",
              "    </tr>\n",
              "    <tr>\n",
              "      <th>2</th>\n",
              "      <td>sent: 0</td>\n",
              "      <td>ke</td>\n",
              "      <td>Other</td>\n",
              "    </tr>\n",
              "    <tr>\n",
              "      <th>3</th>\n",
              "      <td>sent: 0</td>\n",
              "      <td>liye</td>\n",
              "      <td>Other</td>\n",
              "    </tr>\n",
              "    <tr>\n",
              "      <th>4</th>\n",
              "      <td>sent: 0</td>\n",
              "      <td>line</td>\n",
              "      <td>Other</td>\n",
              "    </tr>\n",
              "  </tbody>\n",
              "</table>\n",
              "</div>"
            ],
            "text/plain": [
              "      Sent      Word    Tag\n",
              "0  sent: 0  Bahubali  B-Per\n",
              "1  sent: 0         2  Other\n",
              "2  sent: 0        ke  Other\n",
              "3  sent: 0      liye  Other\n",
              "4  sent: 0      line  Other"
            ]
          },
          "metadata": {
            "tags": []
          },
          "execution_count": 23
        }
      ]
    },
    {
      "cell_type": "code",
      "metadata": {
        "id": "4aKFvaGsF7jI"
      },
      "source": [
        "# Filling any null value in sentence with the previously obtained sentence numbers\r\n",
        "data = data.fillna(method=\"ffill\")"
      ],
      "execution_count": 24,
      "outputs": []
    },
    {
      "cell_type": "code",
      "metadata": {
        "colab": {
          "base_uri": "https://localhost:8080/"
        },
        "id": "ju3hTtDJF-pq",
        "outputId": "92a23b3d-fa82-47a1-fdd7-fd2b94258271"
      },
      "source": [
        "words = list(set(data[\"Word\"].values))\r\n",
        "n_words = len(words)\r\n",
        "print('No of unique words =', n_words)"
      ],
      "execution_count": 25,
      "outputs": [
        {
          "output_type": "stream",
          "text": [
            "No of unique words = 14866\n"
          ],
          "name": "stdout"
        }
      ]
    },
    {
      "cell_type": "code",
      "metadata": {
        "colab": {
          "base_uri": "https://localhost:8080/"
        },
        "id": "wF1YASDlGAKL",
        "outputId": "8da92dcb-7f2c-4ffb-eb1f-d0183dfcd48c"
      },
      "source": [
        "tags = list(set(data[\"Tag\"].values))\r\n",
        "n_tags = len(tags);\r\n",
        "print('No of unique Tags =', n_tags)"
      ],
      "execution_count": 26,
      "outputs": [
        {
          "output_type": "stream",
          "text": [
            "No of unique Tags = 7\n"
          ],
          "name": "stdout"
        }
      ]
    },
    {
      "cell_type": "code",
      "metadata": {
        "colab": {
          "base_uri": "https://localhost:8080/"
        },
        "id": "3jDn36z-GCff",
        "outputId": "6cb30034-8f46-48a7-c7ba-4e638911a387"
      },
      "source": [
        "print('No of unique sentences = ', len(data['Sent'].unique()))"
      ],
      "execution_count": 27,
      "outputs": [
        {
          "output_type": "stream",
          "text": [
            "No of unique sentences =  3085\n"
          ],
          "name": "stdout"
        }
      ]
    },
    {
      "cell_type": "code",
      "metadata": {
        "id": "To1XjwIcGD_w"
      },
      "source": [
        "class SentenceGetter(object):\r\n",
        "    \r\n",
        "    def __init__(self, data):\r\n",
        "        self.n_sent = 1\r\n",
        "        self.data = data\r\n",
        "        self.empty = False\r\n",
        "        agg_func = lambda s: [(w, t) for w, t in zip(s[\"Word\"].values.tolist(),\r\n",
        "                                                           s[\"Tag\"].values.tolist())]\r\n",
        "        self.grouped = self.data.groupby(\"Sent\").apply(agg_func)\r\n",
        "        self.sentences = [s for s in self.grouped]\r\n",
        "    \r\n",
        "    def get_next(self):\r\n",
        "        try:\r\n",
        "            s = self.grouped[\"Sentence: {}\".format(self.n_sent)]\r\n",
        "            self.n_sent += 1\r\n",
        "            return s\r\n",
        "        except:\r\n",
        "            return None"
      ],
      "execution_count": 28,
      "outputs": []
    },
    {
      "cell_type": "code",
      "metadata": {
        "id": "18xcV9yrGHF8"
      },
      "source": [
        "getter = SentenceGetter(data)\r\n",
        "sentences = getter.sentences"
      ],
      "execution_count": 29,
      "outputs": []
    },
    {
      "cell_type": "code",
      "metadata": {
        "id": "X6KYG5J3GKB2"
      },
      "source": [
        "# Can be modified\r\n",
        "max_len = 75 # every sentence is max of 75 length\r\n",
        "max_len_char = 10 # every word is max of 10 length"
      ],
      "execution_count": 30,
      "outputs": []
    },
    {
      "cell_type": "code",
      "metadata": {
        "id": "W5ywDzX3GLUi"
      },
      "source": [
        "word2idx = {w: i + 2 for i, w in enumerate(words)}\r\n",
        "word2idx[\"UNK\"] = 1\r\n",
        "word2idx[\"PAD\"] = 0\r\n",
        "idx2word = {i: w for w, i in word2idx.items()}\r\n",
        "tag2idx = {t: i + 1 for i, t in enumerate(tags)}\r\n",
        "tag2idx[\"PAD\"] = 0\r\n",
        "idx2tag = {i: w for w, i in tag2idx.items()}"
      ],
      "execution_count": 31,
      "outputs": []
    },
    {
      "cell_type": "code",
      "metadata": {
        "id": "8nOlEU9SGNEp"
      },
      "source": [
        "X_word = [[word2idx[w[0]] for w in s] for s in sentences]"
      ],
      "execution_count": 32,
      "outputs": []
    },
    {
      "cell_type": "code",
      "metadata": {
        "id": "0tnnbWc2GORA"
      },
      "source": [
        "X_word = pad_sequences(maxlen=max_len, sequences=X_word, value=word2idx[\"PAD\"], padding='post', truncating='post')"
      ],
      "execution_count": 33,
      "outputs": []
    },
    {
      "cell_type": "code",
      "metadata": {
        "colab": {
          "base_uri": "https://localhost:8080/"
        },
        "id": "OYL1hnTpGOwg",
        "outputId": "2aec8644-dc5f-4022-e6cd-5212d0c60c60"
      },
      "source": [
        "chars = set([w_i for w in words for w_i in w])\r\n",
        "n_chars = len(chars)\r\n",
        "print(n_chars)"
      ],
      "execution_count": 34,
      "outputs": [
        {
          "output_type": "stream",
          "text": [
            "114\n"
          ],
          "name": "stdout"
        }
      ]
    },
    {
      "cell_type": "code",
      "metadata": {
        "id": "SvJ-0J9lGP2a"
      },
      "source": [
        "char2idx = {c: i + 2 for i, c in enumerate(chars)}\r\n",
        "char2idx[\"UNK\"] = 1\r\n",
        "char2idx[\"PAD\"] = 0"
      ],
      "execution_count": 35,
      "outputs": []
    },
    {
      "cell_type": "code",
      "metadata": {
        "id": "FoFSs-d6GSCQ"
      },
      "source": [
        "X_char = []\r\n",
        "for sentence in sentences:\r\n",
        "    sent_seq = []\r\n",
        "    for i in range(max_len):\r\n",
        "        word_seq = []\r\n",
        "        for j in range(max_len_char):\r\n",
        "            try:\r\n",
        "                word_seq.append(char2idx.get(sentence[i][0][j]))\r\n",
        "            except:\r\n",
        "                word_seq.append(char2idx.get(\"PAD\"))\r\n",
        "        sent_seq.append(word_seq)\r\n",
        "    X_char.append(np.array(sent_seq))"
      ],
      "execution_count": 36,
      "outputs": []
    },
    {
      "cell_type": "code",
      "metadata": {
        "id": "UDBd1-Y1GTj-"
      },
      "source": [
        "y = [[tag2idx[w[1]] for w in s] for s in sentences]"
      ],
      "execution_count": 37,
      "outputs": []
    },
    {
      "cell_type": "code",
      "metadata": {
        "id": "XK1_7kVGGU0J"
      },
      "source": [
        "y = pad_sequences(maxlen=max_len, sequences=y, value=tag2idx[\"PAD\"], padding='post', truncating='post')"
      ],
      "execution_count": 38,
      "outputs": []
    },
    {
      "cell_type": "code",
      "metadata": {
        "id": "CsGXRKt_GWKG"
      },
      "source": [
        "X_word_tr, X_word_te, y_tr, y_te = train_test_split(X_word, y, test_size=0.1, random_state=2018)\r\n",
        "X_char_tr, X_char_te, y_char_tr_, y_char_te_ = train_test_split(X_char, y, test_size=0.1, random_state=2018)"
      ],
      "execution_count": 39,
      "outputs": []
    },
    {
      "cell_type": "code",
      "metadata": {
        "id": "NezyKLVXGXMR"
      },
      "source": [
        "# input and embedding for words\r\n",
        "word_in = Input(shape=(max_len,))\r\n",
        "emb_word = Embedding(input_dim=n_words + 2, output_dim=20,\r\n",
        "                     input_length=max_len, mask_zero=True)(word_in)\r\n",
        "\r\n",
        "# input and embeddings for characters\r\n",
        "char_in = Input(shape=(max_len, max_len_char,))\r\n",
        "emb_char = TimeDistributed(Embedding(input_dim=n_chars + 2, output_dim=10,\r\n",
        "                           input_length=max_len_char, mask_zero=True))(char_in)\r\n",
        "# character LSTM to get word encodings by characters\r\n",
        "char_enc = TimeDistributed(LSTM(units=20, return_sequences=False,\r\n",
        "                                recurrent_dropout=0.5))(emb_char)\r\n",
        "\r\n",
        "# main LSTM\r\n",
        "x = concatenate([emb_word, char_enc])\r\n",
        "x = SpatialDropout1D(0.3)(x)\r\n",
        "main_lstm = Bidirectional(LSTM(units=50, return_sequences=True,\r\n",
        "                               recurrent_dropout=0.6))(x)\r\n",
        "out = TimeDistributed(Dense(n_tags + 1, activation=\"relu\"))(main_lstm)\r\n",
        "\r\n",
        "model = Model([word_in, char_in], out)"
      ],
      "execution_count": 40,
      "outputs": []
    },
    {
      "cell_type": "code",
      "metadata": {
        "colab": {
          "base_uri": "https://localhost:8080/"
        },
        "id": "e7XPTQhHGXtd",
        "outputId": "204f857d-84bb-4270-c1b2-2c59442959b6"
      },
      "source": [
        "model.compile(optimizer=\"adam\", loss=\"sparse_categorical_crossentropy\", metrics=[\"accuracy\"])\r\n",
        "model.summary()"
      ],
      "execution_count": 41,
      "outputs": [
        {
          "output_type": "stream",
          "text": [
            "Model: \"model\"\n",
            "__________________________________________________________________________________________________\n",
            "Layer (type)                    Output Shape         Param #     Connected to                     \n",
            "==================================================================================================\n",
            "input_2 (InputLayer)            [(None, 75, 10)]     0                                            \n",
            "__________________________________________________________________________________________________\n",
            "input_1 (InputLayer)            [(None, 75)]         0                                            \n",
            "__________________________________________________________________________________________________\n",
            "time_distributed (TimeDistribut (None, 75, 10, 10)   1160        input_2[0][0]                    \n",
            "__________________________________________________________________________________________________\n",
            "embedding_1 (Embedding)         (None, 75, 20)       297360      input_1[0][0]                    \n",
            "__________________________________________________________________________________________________\n",
            "time_distributed_1 (TimeDistrib (None, 75, 20)       2480        time_distributed[0][0]           \n",
            "__________________________________________________________________________________________________\n",
            "concatenate (Concatenate)       (None, 75, 40)       0           embedding_1[0][0]                \n",
            "                                                                 time_distributed_1[0][0]         \n",
            "__________________________________________________________________________________________________\n",
            "spatial_dropout1d (SpatialDropo (None, 75, 40)       0           concatenate[0][0]                \n",
            "__________________________________________________________________________________________________\n",
            "bidirectional_1 (Bidirectional) (None, 75, 100)      36400       spatial_dropout1d[0][0]          \n",
            "__________________________________________________________________________________________________\n",
            "time_distributed_2 (TimeDistrib (None, 75, 8)        808         bidirectional_1[0][0]            \n",
            "==================================================================================================\n",
            "Total params: 338,208\n",
            "Trainable params: 338,208\n",
            "Non-trainable params: 0\n",
            "__________________________________________________________________________________________________\n"
          ],
          "name": "stdout"
        }
      ]
    },
    {
      "cell_type": "code",
      "metadata": {
        "colab": {
          "base_uri": "https://localhost:8080/"
        },
        "id": "f9qf7TOaGbVN",
        "outputId": "c860a3b8-2e66-4952-87a2-57da1062f696"
      },
      "source": [
        "history = model.fit([X_word_tr,\r\n",
        "                    np.array(X_char_tr).reshape((len(X_char_tr), max_len, max_len_char))],\r\n",
        "                    np.array(y_tr).reshape(len(y_tr), max_len, 1),\r\n",
        "                    batch_size=32, epochs=8, validation_split=0.1, verbose=1)"
      ],
      "execution_count": 42,
      "outputs": [
        {
          "output_type": "stream",
          "text": [
            "Epoch 1/8\n",
            "79/79 [==============================] - 29s 265ms/step - loss: 0.3457 - accuracy: 0.8636 - val_loss: 0.2171 - val_accuracy: 0.9204\n",
            "Epoch 2/8\n",
            "79/79 [==============================] - 20s 253ms/step - loss: 0.1629 - accuracy: 0.9292 - val_loss: 0.1581 - val_accuracy: 0.9204\n",
            "Epoch 3/8\n",
            "79/79 [==============================] - 20s 250ms/step - loss: 0.1153 - accuracy: 0.9275 - val_loss: 0.1485 - val_accuracy: 0.9213\n",
            "Epoch 4/8\n",
            "79/79 [==============================] - 20s 250ms/step - loss: 0.0953 - accuracy: 0.9283 - val_loss: 0.2087 - val_accuracy: 0.9205\n",
            "Epoch 5/8\n",
            "79/79 [==============================] - 20s 251ms/step - loss: 0.1560 - accuracy: 0.9288 - val_loss: 0.1108 - val_accuracy: 0.9207\n",
            "Epoch 6/8\n",
            "79/79 [==============================] - 20s 250ms/step - loss: 0.0846 - accuracy: 0.9284 - val_loss: 0.1014 - val_accuracy: 0.9225\n",
            "Epoch 7/8\n",
            "79/79 [==============================] - 20s 252ms/step - loss: 0.0559 - accuracy: 0.9321 - val_loss: 0.1041 - val_accuracy: 0.9310\n",
            "Epoch 8/8\n",
            "79/79 [==============================] - 20s 254ms/step - loss: 0.0464 - accuracy: 0.9415 - val_loss: 0.1109 - val_accuracy: 0.9420\n"
          ],
          "name": "stdout"
        }
      ]
    },
    {
      "cell_type": "code",
      "metadata": {
        "id": "Re6qWr8RGc9j"
      },
      "source": [
        "hist = pd.DataFrame(history.history)"
      ],
      "execution_count": 43,
      "outputs": []
    },
    {
      "cell_type": "code",
      "metadata": {
        "colab": {
          "base_uri": "https://localhost:8080/",
          "height": 716
        },
        "id": "NjxqdA5zGeTL",
        "outputId": "25306624-f7b9-4b50-cc98-740cc5447769"
      },
      "source": [
        "# Plotting the accuracy between training accuracy and validation accuracy\r\n",
        "plt.figure(figsize=(12,12))\r\n",
        "plt.plot(hist[\"accuracy\"])\r\n",
        "plt.plot(hist[\"val_accuracy\"])\r\n",
        "plt.title('Accuracy Plot')\r\n",
        "plt.show()"
      ],
      "execution_count": 57,
      "outputs": [
        {
          "output_type": "display_data",
          "data": {
            "image/png": "[encoded data removed]",
            "text/plain": [
              "<Figure size 864x864 with 1 Axes>"
            ]
          },
          "metadata": {
            "tags": []
          }
        }
      ]
    },
    {
      "cell_type": "code",
      "metadata": {
        "id": "KWJ5WqRTGgMD"
      },
      "source": [
        "y_pred = model.predict([X_word_te,\r\n",
        "                        np.array(X_char_te).reshape((len(X_char_te),\r\n",
        "                                                     max_len, max_len_char))])"
      ],
      "execution_count": 45,
      "outputs": []
    },
    {
      "cell_type": "code",
      "metadata": {
        "colab": {
          "base_uri": "https://localhost:8080/"
        },
        "id": "OrS7O4e9GhW1",
        "outputId": "984217e0-9657-4700-9047-be8eece4a03a"
      },
      "source": [
        "i = 150\r\n",
        "p = np.argmax(y_pred[i], axis=-1)\r\n",
        "print(\"{:20}||{:30}||{}\".format(\"Word\", \"Ground Truth\", \"Predcted Labels\"))\r\n",
        "print(75 * \"=\")\r\n",
        "for w, t, pred in zip(X_word_te[i], y_te[i], p):\r\n",
        "    if w != 0:\r\n",
        "        print(\"{:20}: {:30} {}\".format(idx2word[w], idx2tag[t], idx2tag[pred]))"
      ],
      "execution_count": 55,
      "outputs": [
        {
          "output_type": "stream",
          "text": [
            "Word                ||Ground Truth                  ||Predcted Labels\n",
            "===========================================================================\n",
            "Modiji              : B-Per                          B-Per\n",
            "jawab               : Other                          Other\n",
            "de                  : Other                          Other\n",
            "#Dhoni              : B-Per                          B-Per\n",
            "ne                  : Other                          Other\n",
            "retirement          : Other                          Other\n",
            "kyu                 : Other                          Other\n",
            "li                  : Other                          Other\n",
            "hai                 : Other                          Other\n",
            "?                   : Other                          Other\n",
            "Varna               : Other                          Other\n",
            "me                  : Other                          Other\n",
            "pure                : Other                          Other\n",
            "bharat              : B-Loc                          Other\n",
            "me                  : Other                          Other\n",
            "ghum                : Other                          Other\n",
            "ghum                : Other                          Other\n",
            "k                   : Other                          Other\n",
            "pata                : Other                          Other\n",
            "lagauga             : Other                          Other\n",
            "lagauga             : Other                          Other\n"
          ],
          "name": "stdout"
        }
      ]
    },
    {
      "cell_type": "code",
      "metadata": {
        "colab": {
          "base_uri": "https://localhost:8080/"
        },
        "id": "dfDG4P88GjQe",
        "outputId": "48fd43cc-ece6-460f-baef-d2eb50ab94de"
      },
      "source": [
        "# Checking the accuracy score on the test data separated out\r\n",
        "scores = model.evaluate([X_word_te,\r\n",
        "                    np.array(X_char_te).reshape((len(X_char_te), max_len, max_len_char))], \r\n",
        "                    np.array(y_te).reshape(len(y_char_te_), max_len, 1), verbose = 0)\r\n",
        "print(\"%s: %.2f%%\" % (model.metrics_names[1], scores[1] * 100))"
      ],
      "execution_count": 47,
      "outputs": [
        {
          "output_type": "stream",
          "text": [
            "accuracy: 94.63%\n"
          ],
          "name": "stdout"
        }
      ]
    }
  ]
}